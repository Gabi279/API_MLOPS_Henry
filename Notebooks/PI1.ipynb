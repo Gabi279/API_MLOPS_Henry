{
 "cells": [
  {
   "cell_type": "code",
   "execution_count": 22,
   "metadata": {},
   "outputs": [],
   "source": [
    "# Importar las librerías\n",
    "\n",
    "import pandas as pd\n",
    "import ast\n"
   ]
  },
  {
   "cell_type": "code",
   "execution_count": 23,
   "metadata": {},
   "outputs": [
    {
     "name": "stderr",
     "output_type": "stream",
     "text": [
      "C:\\Users\\cgabr\\AppData\\Local\\Temp\\ipykernel_14760\\687473288.py:3: DtypeWarning: Columns (10) have mixed types. Specify dtype option on import or set low_memory=False.\n",
      "  data_movies = pd.read_csv(\"C:/Users/cgabr/OneDrive/Documentos/Henry/Movies/API/Data/movies_dataset.csv\")\n"
     ]
    }
   ],
   "source": [
    "# Carga de datos de las películas y de los créditos\n",
    "\n",
    "data_movies = pd.read_csv(\"C:/Users/cgabr/OneDrive/Documentos/Henry/Movies/API/Data/movies_dataset.csv\")\n",
    "data_credits = pd.read_csv(\"C:/Users/cgabr/OneDrive/Documentos/Henry/Movies/API\\Data/credits.csv\")"
   ]
  },
  {
   "cell_type": "code",
   "execution_count": 24,
   "metadata": {},
   "outputs": [
    {
     "data": {
      "text/html": [
       "<div>\n",
       "<style scoped>\n",
       "    .dataframe tbody tr th:only-of-type {\n",
       "        vertical-align: middle;\n",
       "    }\n",
       "\n",
       "    .dataframe tbody tr th {\n",
       "        vertical-align: top;\n",
       "    }\n",
       "\n",
       "    .dataframe thead th {\n",
       "        text-align: right;\n",
       "    }\n",
       "</style>\n",
       "<table border=\"1\" class=\"dataframe\">\n",
       "  <thead>\n",
       "    <tr style=\"text-align: right;\">\n",
       "      <th></th>\n",
       "      <th>production_companies</th>\n",
       "    </tr>\n",
       "  </thead>\n",
       "  <tbody>\n",
       "    <tr>\n",
       "      <th>0</th>\n",
       "      <td>[{'name': 'Pixar Animation Studios', 'id': 3}]</td>\n",
       "    </tr>\n",
       "    <tr>\n",
       "      <th>1</th>\n",
       "      <td>[{'name': 'TriStar Pictures', 'id': 559}, {'na...</td>\n",
       "    </tr>\n",
       "    <tr>\n",
       "      <th>2</th>\n",
       "      <td>[{'name': 'Warner Bros.', 'id': 6194}, {'name'...</td>\n",
       "    </tr>\n",
       "    <tr>\n",
       "      <th>3</th>\n",
       "      <td>[{'name': 'Twentieth Century Fox Film Corporat...</td>\n",
       "    </tr>\n",
       "    <tr>\n",
       "      <th>4</th>\n",
       "      <td>[{'name': 'Sandollar Productions', 'id': 5842}...</td>\n",
       "    </tr>\n",
       "    <tr>\n",
       "      <th>...</th>\n",
       "      <td>...</td>\n",
       "    </tr>\n",
       "    <tr>\n",
       "      <th>45461</th>\n",
       "      <td>[]</td>\n",
       "    </tr>\n",
       "    <tr>\n",
       "      <th>45462</th>\n",
       "      <td>[{'name': 'Sine Olivia', 'id': 19653}]</td>\n",
       "    </tr>\n",
       "    <tr>\n",
       "      <th>45463</th>\n",
       "      <td>[{'name': 'American World Pictures', 'id': 6165}]</td>\n",
       "    </tr>\n",
       "    <tr>\n",
       "      <th>45464</th>\n",
       "      <td>[{'name': 'Yermoliev', 'id': 88753}]</td>\n",
       "    </tr>\n",
       "    <tr>\n",
       "      <th>45465</th>\n",
       "      <td>[]</td>\n",
       "    </tr>\n",
       "  </tbody>\n",
       "</table>\n",
       "<p>45466 rows × 1 columns</p>\n",
       "</div>"
      ],
      "text/plain": [
       "                                    production_companies\n",
       "0         [{'name': 'Pixar Animation Studios', 'id': 3}]\n",
       "1      [{'name': 'TriStar Pictures', 'id': 559}, {'na...\n",
       "2      [{'name': 'Warner Bros.', 'id': 6194}, {'name'...\n",
       "3      [{'name': 'Twentieth Century Fox Film Corporat...\n",
       "4      [{'name': 'Sandollar Productions', 'id': 5842}...\n",
       "...                                                  ...\n",
       "45461                                                 []\n",
       "45462             [{'name': 'Sine Olivia', 'id': 19653}]\n",
       "45463  [{'name': 'American World Pictures', 'id': 6165}]\n",
       "45464               [{'name': 'Yermoliev', 'id': 88753}]\n",
       "45465                                                 []\n",
       "\n",
       "[45466 rows x 1 columns]"
      ]
     },
     "execution_count": 24,
     "metadata": {},
     "output_type": "execute_result"
    }
   ],
   "source": [
    "# Transformación a dataframes de las columnas belongs_to_collection y production_companies para desanidarlas\n",
    "\n",
    "df_btc = pd.DataFrame(data=data_movies['belongs_to_collection'])\n",
    "df_btc\n",
    "\n",
    "df_prod = pd.DataFrame(data=data_movies['production_companies'])\n",
    "df_prod"
   ]
  },
  {
   "cell_type": "code",
   "execution_count": 25,
   "metadata": {},
   "outputs": [
    {
     "data": {
      "text/html": [
       "<div>\n",
       "<style scoped>\n",
       "    .dataframe tbody tr th:only-of-type {\n",
       "        vertical-align: middle;\n",
       "    }\n",
       "\n",
       "    .dataframe tbody tr th {\n",
       "        vertical-align: top;\n",
       "    }\n",
       "\n",
       "    .dataframe thead th {\n",
       "        text-align: right;\n",
       "    }\n",
       "</style>\n",
       "<table border=\"1\" class=\"dataframe\">\n",
       "  <thead>\n",
       "    <tr style=\"text-align: right;\">\n",
       "      <th></th>\n",
       "      <th>cast</th>\n",
       "    </tr>\n",
       "  </thead>\n",
       "  <tbody>\n",
       "    <tr>\n",
       "      <th>0</th>\n",
       "      <td>[{'cast_id': 14, 'character': 'Woody (voice)',...</td>\n",
       "    </tr>\n",
       "    <tr>\n",
       "      <th>1</th>\n",
       "      <td>[{'cast_id': 1, 'character': 'Alan Parrish', '...</td>\n",
       "    </tr>\n",
       "    <tr>\n",
       "      <th>2</th>\n",
       "      <td>[{'cast_id': 2, 'character': 'Max Goldman', 'c...</td>\n",
       "    </tr>\n",
       "    <tr>\n",
       "      <th>3</th>\n",
       "      <td>[{'cast_id': 1, 'character': \"Savannah 'Vannah...</td>\n",
       "    </tr>\n",
       "    <tr>\n",
       "      <th>4</th>\n",
       "      <td>[{'cast_id': 1, 'character': 'George Banks', '...</td>\n",
       "    </tr>\n",
       "    <tr>\n",
       "      <th>...</th>\n",
       "      <td>...</td>\n",
       "    </tr>\n",
       "    <tr>\n",
       "      <th>45471</th>\n",
       "      <td>[{'cast_id': 0, 'character': '', 'credit_id': ...</td>\n",
       "    </tr>\n",
       "    <tr>\n",
       "      <th>45472</th>\n",
       "      <td>[{'cast_id': 1002, 'character': 'Sister Angela...</td>\n",
       "    </tr>\n",
       "    <tr>\n",
       "      <th>45473</th>\n",
       "      <td>[{'cast_id': 6, 'character': 'Emily Shaw', 'cr...</td>\n",
       "    </tr>\n",
       "    <tr>\n",
       "      <th>45474</th>\n",
       "      <td>[{'cast_id': 2, 'character': '', 'credit_id': ...</td>\n",
       "    </tr>\n",
       "    <tr>\n",
       "      <th>45475</th>\n",
       "      <td>[]</td>\n",
       "    </tr>\n",
       "  </tbody>\n",
       "</table>\n",
       "<p>45476 rows × 1 columns</p>\n",
       "</div>"
      ],
      "text/plain": [
       "                                                    cast\n",
       "0      [{'cast_id': 14, 'character': 'Woody (voice)',...\n",
       "1      [{'cast_id': 1, 'character': 'Alan Parrish', '...\n",
       "2      [{'cast_id': 2, 'character': 'Max Goldman', 'c...\n",
       "3      [{'cast_id': 1, 'character': \"Savannah 'Vannah...\n",
       "4      [{'cast_id': 1, 'character': 'George Banks', '...\n",
       "...                                                  ...\n",
       "45471  [{'cast_id': 0, 'character': '', 'credit_id': ...\n",
       "45472  [{'cast_id': 1002, 'character': 'Sister Angela...\n",
       "45473  [{'cast_id': 6, 'character': 'Emily Shaw', 'cr...\n",
       "45474  [{'cast_id': 2, 'character': '', 'credit_id': ...\n",
       "45475                                                 []\n",
       "\n",
       "[45476 rows x 1 columns]"
      ]
     },
     "execution_count": 25,
     "metadata": {},
     "output_type": "execute_result"
    }
   ],
   "source": [
    "# Transformación a dataframe de la columna cast para desanidarlas\n",
    "\n",
    "df_cast = pd.DataFrame(data=data_credits['cast'])\n",
    "df_cast"
   ]
  },
  {
   "cell_type": "code",
   "execution_count": 26,
   "metadata": {},
   "outputs": [],
   "source": [
    "df_btc = df_btc.drop_duplicates()\n",
    "df_btc = df_btc.dropna()"
   ]
  },
  {
   "cell_type": "code",
   "execution_count": 27,
   "metadata": {},
   "outputs": [],
   "source": [
    "df_prod = df_prod.drop_duplicates()\n",
    "df_prod = df_prod.dropna()"
   ]
  },
  {
   "cell_type": "code",
   "execution_count": 28,
   "metadata": {},
   "outputs": [],
   "source": [
    "df_cast = df_cast.drop_duplicates()\n",
    "df_cast = df_cast.dropna()"
   ]
  },
  {
   "cell_type": "code",
   "execution_count": 29,
   "metadata": {},
   "outputs": [
    {
     "name": "stdout",
     "output_type": "stream",
     "text": [
      "0        [Tom Hanks, Tim Allen, Don Rickles, Jim Varney...\n",
      "1        [Robin Williams, Jonathan Hyde, Kirsten Dunst,...\n",
      "2        [Walter Matthau, Jack Lemmon, Ann-Margret, Sop...\n",
      "3        [Whitney Houston, Angela Bassett, Loretta Devi...\n",
      "4        [Steve Martin, Diane Keaton, Martin Short, Kim...\n",
      "                               ...                        \n",
      "45471          [Leila Hatami, Kourosh Tahami, Elham Korda]\n",
      "45472    [Angel Aquino, Perry Dizon, Hazel Orencio, Joe...\n",
      "45473    [Erika Eleniak, Adam Baldwin, Julie du Page, J...\n",
      "45474    [Iwan Mosschuchin, Nathalie Lissenko, Pavel Pa...\n",
      "45475                                                   []\n",
      "Name: actors, Length: 45476, dtype: object\n"
     ]
    }
   ],
   "source": [
    "\n",
    "# Conviersión de la columna \"cast\" a listas de diccionarios\n",
    "data_credits['cast'] = data_credits['cast'].apply(ast.literal_eval)\n",
    "\n",
    "# Aplica la función lambda para extraer los nombres de los actores\n",
    "data_credits['actors'] = data_credits['cast'].apply(lambda x: [actor['name'] for actor in x])\n",
    "\n",
    "# Verificación del resultado\n",
    "print(data_credits['actors'])"
   ]
  },
  {
   "cell_type": "code",
   "execution_count": 30,
   "metadata": {},
   "outputs": [],
   "source": [
    "# Se convierte la columna \"crew\" en listas de diccionarios utilizando la función ast.literal_eval\n",
    "data_credits['crew'] = data_credits['crew'].apply(ast.literal_eval)\n",
    "\n",
    "# Se utiliza una función lambda junto con una comprensión de lista para filtrar los elementos en los que el valor de la clave \"job\" sea igual a \"Director\" y extraer el valor de la clave \"name\" para esos elementos.\n",
    "data_credits['director_names'] = data_credits['crew'].apply(lambda x: [item['name'] for item in x if item['job'] == 'Director'])\n",
    "\n",
    "# Se convierte la lista de nombres de directores en un solo string separado por comas.\n",
    "data_credits['director_names'] = data_credits['director_names'].apply(', '.join)\n",
    "data_credits.head()\n",
    "\n",
    "# se crea un nuevo dataframe con los datos de las columnas \n",
    "new_data_credits = data_credits.loc[:, ['id', 'actors', 'director_names']].copy()\n"
   ]
  },
  {
   "cell_type": "code",
   "execution_count": 47,
   "metadata": {},
   "outputs": [
    {
     "data": {
      "text/plain": [
       "0           John Lasseter\n",
       "1            Joe Johnston\n",
       "2           Howard Deutch\n",
       "3         Forest Whitaker\n",
       "4           Charles Shyer\n",
       "               ...       \n",
       "45471    Hamid Nematollah\n",
       "45472            Lav Diaz\n",
       "45473      Mark L. Lester\n",
       "45474    Yakov Protazanov\n",
       "45475       Daisy Asquith\n",
       "Name: director_names, Length: 45476, dtype: object"
      ]
     },
     "execution_count": 47,
     "metadata": {},
     "output_type": "execute_result"
    }
   ],
   "source": [
    "data_credits['director_names']"
   ]
  },
  {
   "cell_type": "code",
   "execution_count": 31,
   "metadata": {},
   "outputs": [],
   "source": [
    "# Se cambian los valores nulos por el valor 0\n",
    "\n",
    "revenue = data_movies['revenue'].fillna(0)\n",
    "budget = data_movies['budget'].fillna(0)"
   ]
  },
  {
   "cell_type": "code",
   "execution_count": 32,
   "metadata": {},
   "outputs": [],
   "source": [
    "# Se eliminan los valores nulos de la columna release_date\n",
    "\n",
    "data_movies.dropna(subset=['release_date'], inplace=True) "
   ]
  },
  {
   "cell_type": "code",
   "execution_count": 33,
   "metadata": {},
   "outputs": [],
   "source": [
    "# Se crea la columna release_year con los datos transformados a datetime\n",
    "\n",
    "data_movies['release_year'] = pd.to_datetime(data_movies['release_date'], format='%Y-%m-%d', errors='coerce')"
   ]
  },
  {
   "cell_type": "code",
   "execution_count": 34,
   "metadata": {},
   "outputs": [],
   "source": [
    "# Se convierten los datos a números para poder dividir las dos columnas\n",
    "\n",
    "data_movies['revenue'] = pd.to_numeric(data_movies['revenue'], errors='coerce')\n",
    "data_movies['budget'] = pd.to_numeric(data_movies['budget'], errors='coerce')"
   ]
  },
  {
   "cell_type": "code",
   "execution_count": 35,
   "metadata": {},
   "outputs": [
    {
     "data": {
      "text/plain": [
       "0        12.451801\n",
       "1         4.043035\n",
       "2         0.000000\n",
       "3         5.090760\n",
       "4         0.000000\n",
       "           ...    \n",
       "45460     0.000000\n",
       "45462     0.000000\n",
       "45463     0.000000\n",
       "45464     0.000000\n",
       "45465     0.000000\n",
       "Name: return, Length: 45379, dtype: float64"
      ]
     },
     "execution_count": 35,
     "metadata": {},
     "output_type": "execute_result"
    }
   ],
   "source": [
    "# Se divide la columna revenue sobre budget para crear la columna return con el cociente de lasdos anteriores\n",
    "\n",
    "data_movies.loc[:, 'return'] = data_movies.apply(lambda row: row['revenue'] / row['budget'] if pd.notnull(row['revenue']) and pd.notnull(row['budget']) and row['budget'] != 0 else 0, axis=1)\n",
    "\n",
    "data_movies['return']"
   ]
  },
  {
   "cell_type": "code",
   "execution_count": 36,
   "metadata": {},
   "outputs": [],
   "source": [
    "# Se eliminan las columnas que no se van a utilizar en el futuro\n",
    "\n",
    "data_movies = data_movies.drop('video', axis=1)\n",
    "data_movies = data_movies.drop('imdb_id', axis=1)\n",
    "data_movies = data_movies.drop('adult', axis=1)\n",
    "data_movies = data_movies.drop('original_title', axis=1)\n",
    "data_movies = data_movies.drop('poster_path', axis=1)\n",
    "data_movies = data_movies.drop('homepage', axis=1)"
   ]
  },
  {
   "cell_type": "code",
   "execution_count": 37,
   "metadata": {},
   "outputs": [],
   "source": [
    "# Se corrige los valores de la columna popularity\n",
    "\n",
    "data_movies['popularity'] = pd.to_numeric(data_movies['popularity'], errors='coerce')"
   ]
  },
  {
   "cell_type": "code",
   "execution_count": 38,
   "metadata": {},
   "outputs": [],
   "source": [
    "# Se elimina la columna que no va a ser utilizada\n",
    "\n",
    "data_credits = data_credits.drop('crew', axis=1)"
   ]
  },
  {
   "cell_type": "code",
   "execution_count": null,
   "metadata": {},
   "outputs": [],
   "source": [
    "# Se borran los duplicados\n",
    "\n",
    "data_credits = data_credits.drop_duplicates()"
   ]
  },
  {
   "cell_type": "code",
   "execution_count": null,
   "metadata": {},
   "outputs": [
    {
     "data": {
      "text/html": [
       "<div>\n",
       "<style scoped>\n",
       "    .dataframe tbody tr th:only-of-type {\n",
       "        vertical-align: middle;\n",
       "    }\n",
       "\n",
       "    .dataframe tbody tr th {\n",
       "        vertical-align: top;\n",
       "    }\n",
       "\n",
       "    .dataframe thead th {\n",
       "        text-align: right;\n",
       "    }\n",
       "</style>\n",
       "<table border=\"1\" class=\"dataframe\">\n",
       "  <thead>\n",
       "    <tr style=\"text-align: right;\">\n",
       "      <th></th>\n",
       "      <th>cast</th>\n",
       "      <th>id</th>\n",
       "    </tr>\n",
       "  </thead>\n",
       "  <tbody>\n",
       "    <tr>\n",
       "      <th>0</th>\n",
       "      <td>[{'cast_id': 14, 'character': 'Woody (voice)',...</td>\n",
       "      <td>862</td>\n",
       "    </tr>\n",
       "    <tr>\n",
       "      <th>1</th>\n",
       "      <td>[{'cast_id': 1, 'character': 'Alan Parrish', '...</td>\n",
       "      <td>8844</td>\n",
       "    </tr>\n",
       "    <tr>\n",
       "      <th>2</th>\n",
       "      <td>[{'cast_id': 2, 'character': 'Max Goldman', 'c...</td>\n",
       "      <td>15602</td>\n",
       "    </tr>\n",
       "    <tr>\n",
       "      <th>3</th>\n",
       "      <td>[{'cast_id': 1, 'character': \"Savannah 'Vannah...</td>\n",
       "      <td>31357</td>\n",
       "    </tr>\n",
       "    <tr>\n",
       "      <th>4</th>\n",
       "      <td>[{'cast_id': 1, 'character': 'George Banks', '...</td>\n",
       "      <td>11862</td>\n",
       "    </tr>\n",
       "    <tr>\n",
       "      <th>...</th>\n",
       "      <td>...</td>\n",
       "      <td>...</td>\n",
       "    </tr>\n",
       "    <tr>\n",
       "      <th>4996</th>\n",
       "      <td>[{'cast_id': 23, 'character': 'Joe Darrow', 'c...</td>\n",
       "      <td>10052</td>\n",
       "    </tr>\n",
       "    <tr>\n",
       "      <th>4997</th>\n",
       "      <td>[{'cast_id': 13, 'character': 'Lestat de Lionc...</td>\n",
       "      <td>11979</td>\n",
       "    </tr>\n",
       "    <tr>\n",
       "      <th>4998</th>\n",
       "      <td>[{'cast_id': 5, 'character': 'Barlow', 'credit...</td>\n",
       "      <td>75151</td>\n",
       "    </tr>\n",
       "    <tr>\n",
       "      <th>4999</th>\n",
       "      <td>[{'cast_id': 1, 'character': 'Gunnery Sergeant...</td>\n",
       "      <td>35868</td>\n",
       "    </tr>\n",
       "    <tr>\n",
       "      <th>5000</th>\n",
       "      <td>[{'cast_id': 1, 'character': 'Peter McGowan', ...</td>\n",
       "      <td>13791</td>\n",
       "    </tr>\n",
       "  </tbody>\n",
       "</table>\n",
       "<p>5000 rows × 2 columns</p>\n",
       "</div>"
      ],
      "text/plain": [
       "                                                   cast     id\n",
       "0     [{'cast_id': 14, 'character': 'Woody (voice)',...    862\n",
       "1     [{'cast_id': 1, 'character': 'Alan Parrish', '...   8844\n",
       "2     [{'cast_id': 2, 'character': 'Max Goldman', 'c...  15602\n",
       "3     [{'cast_id': 1, 'character': \"Savannah 'Vannah...  31357\n",
       "4     [{'cast_id': 1, 'character': 'George Banks', '...  11862\n",
       "...                                                 ...    ...\n",
       "4996  [{'cast_id': 23, 'character': 'Joe Darrow', 'c...  10052\n",
       "4997  [{'cast_id': 13, 'character': 'Lestat de Lionc...  11979\n",
       "4998  [{'cast_id': 5, 'character': 'Barlow', 'credit...  75151\n",
       "4999  [{'cast_id': 1, 'character': 'Gunnery Sergeant...  35868\n",
       "5000  [{'cast_id': 1, 'character': 'Peter McGowan', ...  13791\n",
       "\n",
       "[5000 rows x 2 columns]"
      ]
     },
     "execution_count": 21,
     "metadata": {},
     "output_type": "execute_result"
    }
   ],
   "source": [
    "# Se reducen las filas para poder tener una muestra más chica que no de problemas al deployar\n",
    "\n",
    "data_credits = data_credits.truncate(before= 0, after=5000)\n",
    "\n",
    "data_credits"
   ]
  },
  {
   "cell_type": "code",
   "execution_count": null,
   "metadata": {},
   "outputs": [],
   "source": [
    "# Finalmente se transforman los datos a parquet para disminuir su peso\n",
    "\n",
    "data_movies.to_parquet('data_movies.parquet')\n",
    "data_credits.to_parquet('data_credits.parquet')"
   ]
  }
 ],
 "metadata": {
  "kernelspec": {
   "display_name": "Python 3",
   "language": "python",
   "name": "python3"
  },
  "language_info": {
   "codemirror_mode": {
    "name": "ipython",
    "version": 3
   },
   "file_extension": ".py",
   "mimetype": "text/x-python",
   "name": "python",
   "nbconvert_exporter": "python",
   "pygments_lexer": "ipython3",
   "version": "3.10.10"
  }
 },
 "nbformat": 4,
 "nbformat_minor": 2
}
